{
  "nbformat": 4,
  "nbformat_minor": 0,
  "metadata": {
    "colab": {
      "name": "UAS_Avivahamelia_.ipynb",
      "provenance": []
    },
    "kernelspec": {
      "name": "python3",
      "display_name": "Python 3"
    }
  },
  "cells": [
    {
      "cell_type": "code",
      "metadata": {
        "id": "Gl26wN2C5gK3"
      },
      "source": [
        "%matplotlib inline\r\n",
        "from pandas import Series, DataFrame\r\n",
        "import pandas as pd\r\n",
        "import numpy as np\r\n",
        "import os\r\n",
        "import matplotlib.pylab as plt\r\n",
        "from sklearn.model_selection import train_test_split\r\n",
        "from sklearn.metrics import classification_report\r\n",
        "import sklearn.metrics\r\n",
        "from sklearn import datasets\r\n",
        "from sklearn.ensemble import RandomForestClassifier"
      ],
      "execution_count": 2,
      "outputs": []
    },
    {
      "cell_type": "code",
      "metadata": {
        "id": "N4ODMMc55jkB"
      },
      "source": [
        "data = pd.read_csv(\"temps.csv\")"
      ],
      "execution_count": null,
      "outputs": []
    },
    {
      "cell_type": "code",
      "metadata": {
        "id": "nHsoQRSh6uXh"
      },
      "source": [
        "#menampilkan 10 baris pertama dari pada dataset\r\n",
        "print(data.shape)\r\n",
        "data.head(10)"
      ],
      "execution_count": null,
      "outputs": []
    },
    {
      "cell_type": "code",
      "metadata": {
        "id": "MNJVHbjx-dka"
      },
      "source": [
        "#Menampilkan jumlah missing data pada setiap bulan\r\n",
        "data.isnull().sum()"
      ],
      "execution_count": null,
      "outputs": []
    },
    {
      "cell_type": "code",
      "metadata": {
        "id": "GY-YJh9V_Cge"
      },
      "source": [
        "#Membuang setiap baris yang di dalamnya terdapat missing data\r\n",
        "data_clean = data.dropna()\r\n",
        "data_clean.describe()"
      ],
      "execution_count": null,
      "outputs": []
    },
    {
      "cell_type": "code",
      "metadata": {
        "id": "HwtuC4sL9gxV"
      },
      "source": [
        "print(data_clean.shape)"
      ],
      "execution_count": null,
      "outputs": []
    },
    {
      "cell_type": "code",
      "metadata": {
        "id": "HY7wtaZqCay8"
      },
      "source": [
        "#Menampilkan jumlah missing data pada setiap kolom setelah di clean\r\n",
        "data_clean.isnull().sum()"
      ],
      "execution_count": null,
      "outputs": []
    },
    {
      "cell_type": "code",
      "metadata": {
        "id": "Hdbp8Ip2DELZ"
      },
      "source": [
        "#Random tree hanya bisa mengolah dara numeric\r\n",
        "#Check kolom apa saja yang merupakan data numeric\r\n",
        "\r\n",
        "num_of_numerical_cols = data_clean._get_numeric_data().columns.shape[0]\r\n",
        "print(num_of_numerical_cols, 'numerical columns')\r\n",
        "name_of_numerical_cols = data_clean._get_numeric_data().columns\r\n",
        "print(name_of_numerical_cols)"
      ],
      "execution_count": null,
      "outputs": []
    },
    {
      "cell_type": "code",
      "metadata": {
        "id": "Rizzfz2PDn5E"
      },
      "source": [
        "#Prediksi kita beri simbol 'X' kapital\r\n",
        "#Target kita beri simbol 'y' kecil\r\n",
        "\r\n",
        "X= data_clean[['BIO_SEX','HISPANIC','WHITE','BLACK','AMERICAN','ASIAN','AGE',\r\n",
        "'ALCEVR1','ALCPROBS1','MAREVER1','COCEVER1','INHEVER1','CIGAVAIL','DEP1','ESTEEM1','VIOL1','PASSIST',\r\n",
        "'DEVIANT1','SCHONN1','GPA1','EXPEL1','FAMCONCT','PARPRES']]\r\n",
        "\r\n",
        "y= data_clean.TREG1\r\n",
        "X_train, X_test, y_train, y_test = train_test_split(X,y, test_size=4, random_state = 0)"
      ],
      "execution_count": null,
      "outputs": []
    },
    {
      "cell_type": "code",
      "metadata": {
        "id": "Q-T2t45NJ8Gy"
      },
      "source": [
        "print('X_train = ', X_train.shape)\r\n",
        "print('X_test = ', X_test.shape)\r\n",
        "print('y_train = ', y_train.shape)\r\n",
        "print('y_test = ', X_test.shape)"
      ],
      "execution_count": null,
      "outputs": []
    },
    {
      "cell_type": "code",
      "metadata": {
        "id": "e5LXmI0nKyJe"
      },
      "source": [
        "classifier = RandomForestClassifier(n_estimators=20, random_state= 0)\r\n",
        "classifier.fit(X_train, y_train)\r\n",
        "\r\n",
        "predictions = classifier.predict(X_test)"
      ],
      "execution_count": null,
      "outputs": []
    },
    {
      "cell_type": "code",
      "metadata": {
        "id": "fhpo9AJpLC2I"
      },
      "source": [
        "confusion_array = sklearn.metrics.confusion_matrix(y_test,predictions)\r\n",
        "print(confusion_array)"
      ],
      "execution_count": null,
      "outputs": []
    },
    {
      "cell_type": "code",
      "metadata": {
        "id": "WkauABCpLUHl"
      },
      "source": [
        "print('TN = ', confusion_array[0,0]) #True Negative\r\n",
        "print('FN = ', confusion_array[1,0]) #False Negative\r\n",
        "print('TP = ', confusion_array[1,1]) #True Negative\r\n",
        "print('FP = ', confusion_array[0,1]) #False Negative"
      ],
      "execution_count": null,
      "outputs": []
    },
    {
      "cell_type": "code",
      "metadata": {
        "id": "NVq7J7JPMIW1"
      },
      "source": [
        "classifier.score(X_test, y_test)"
      ],
      "execution_count": null,
      "outputs": []
    },
    {
      "cell_type": "code",
      "metadata": {
        "id": "vwn3gvrBMLQw"
      },
      "source": [
        "sklearn.metrics.accuracy_score(y_test, predictions)"
      ],
      "execution_count": null,
      "outputs": []
    }
  ]
}